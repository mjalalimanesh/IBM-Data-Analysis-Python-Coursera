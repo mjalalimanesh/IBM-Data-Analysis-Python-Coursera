{
  "nbformat": 4,
  "nbformat_minor": 0,
  "metadata": {
    "anaconda-cloud": {},
    "kernelspec": {
      "display_name": "Python 3",
      "language": "python",
      "name": "python3"
    },
    "language_info": {
      "codemirror_mode": {
        "name": "ipython",
        "version": 3
      },
      "file_extension": ".py",
      "mimetype": "text/x-python",
      "name": "python",
      "nbconvert_exporter": "python",
      "pygments_lexer": "ipython3",
      "version": "3.7.3"
    },
    "colab": {
      "name": "DA0101EN-5-Model-Evaluation-and-Refinement.ipynb",
      "provenance": [],
      "include_colab_link": true
    },
    "widgets": {
      "application/vnd.jupyter.widget-state+json": {
        "ee077f8263ee4fc0be9edbc5a833d407": {
          "model_module": "@jupyter-widgets/controls",
          "model_name": "VBoxModel",
          "state": {
            "_view_name": "VBoxView",
            "_dom_classes": [
              "widget-interact"
            ],
            "_model_name": "VBoxModel",
            "_view_module": "@jupyter-widgets/controls",
            "_model_module_version": "1.5.0",
            "_view_count": null,
            "_view_module_version": "1.5.0",
            "box_style": "",
            "layout": "IPY_MODEL_8ffd0644b55f4c1f9124a4fc030649e6",
            "_model_module": "@jupyter-widgets/controls",
            "children": [
              "IPY_MODEL_4c64d5cc52c94b0bab534a9fc5990d79",
              "IPY_MODEL_4215dd032843493fa04b53251123f84c",
              "IPY_MODEL_bc2ec4dbc0014efab0657bf8a8f8866d"
            ]
          }
        },
        "8ffd0644b55f4c1f9124a4fc030649e6": {
          "model_module": "@jupyter-widgets/base",
          "model_name": "LayoutModel",
          "state": {
            "_view_name": "LayoutView",
            "grid_template_rows": null,
            "right": null,
            "justify_content": null,
            "_view_module": "@jupyter-widgets/base",
            "overflow": null,
            "_model_module_version": "1.2.0",
            "_view_count": null,
            "flex_flow": null,
            "width": null,
            "min_width": null,
            "border": null,
            "align_items": null,
            "bottom": null,
            "_model_module": "@jupyter-widgets/base",
            "top": null,
            "grid_column": null,
            "overflow_y": null,
            "overflow_x": null,
            "grid_auto_flow": null,
            "grid_area": null,
            "grid_template_columns": null,
            "flex": null,
            "_model_name": "LayoutModel",
            "justify_items": null,
            "grid_row": null,
            "max_height": null,
            "align_content": null,
            "visibility": null,
            "align_self": null,
            "height": null,
            "min_height": null,
            "padding": null,
            "grid_auto_rows": null,
            "grid_gap": null,
            "max_width": null,
            "order": null,
            "_view_module_version": "1.2.0",
            "grid_template_areas": null,
            "object_position": null,
            "object_fit": null,
            "grid_auto_columns": null,
            "margin": null,
            "display": null,
            "left": null
          }
        },
        "4c64d5cc52c94b0bab534a9fc5990d79": {
          "model_module": "@jupyter-widgets/controls",
          "model_name": "IntSliderModel",
          "state": {
            "_view_name": "IntSliderView",
            "style": "IPY_MODEL_8343beaf4a904d399edebab800f885ca",
            "_dom_classes": [],
            "description": "order",
            "step": 1,
            "_model_name": "IntSliderModel",
            "orientation": "horizontal",
            "max": 6,
            "_view_module": "@jupyter-widgets/controls",
            "_model_module_version": "1.5.0",
            "value": 3,
            "_view_count": null,
            "disabled": false,
            "_view_module_version": "1.5.0",
            "min": 0,
            "continuous_update": true,
            "readout_format": "d",
            "description_tooltip": null,
            "readout": true,
            "_model_module": "@jupyter-widgets/controls",
            "layout": "IPY_MODEL_cf7c6d69ebc346f18c181d8a323966da"
          }
        },
        "4215dd032843493fa04b53251123f84c": {
          "model_module": "@jupyter-widgets/controls",
          "model_name": "FloatSliderModel",
          "state": {
            "_view_name": "FloatSliderView",
            "style": "IPY_MODEL_abfd9eeb0c15406d8f54855a2682ea8e",
            "_dom_classes": [],
            "description": "test_data",
            "step": 0.05,
            "_model_name": "FloatSliderModel",
            "orientation": "horizontal",
            "max": 0.95,
            "_view_module": "@jupyter-widgets/controls",
            "_model_module_version": "1.5.0",
            "value": 0.45,
            "_view_count": null,
            "disabled": false,
            "_view_module_version": "1.5.0",
            "min": 0.05,
            "continuous_update": true,
            "readout_format": ".2f",
            "description_tooltip": null,
            "readout": true,
            "_model_module": "@jupyter-widgets/controls",
            "layout": "IPY_MODEL_c73fc1fe846940e9a1c21d82e450ee85"
          }
        },
        "bc2ec4dbc0014efab0657bf8a8f8866d": {
          "model_module": "@jupyter-widgets/output",
          "model_name": "OutputModel",
          "state": {
            "_view_name": "OutputView",
            "msg_id": "",
            "_dom_classes": [],
            "_model_name": "OutputModel",
            "outputs": [
              {
                "output_type": "display_data",
                "metadata": {
                  "tags": [],
                  "needs_background": "light"
                },
                "image/png": "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\n",
                "text/plain": "<Figure size 576x432 with 1 Axes>"
              }
            ],
            "_view_module": "@jupyter-widgets/output",
            "_model_module_version": "1.0.0",
            "_view_count": null,
            "_view_module_version": "1.0.0",
            "layout": "IPY_MODEL_5e40e92729fc4c8a8b319f6fc552c948",
            "_model_module": "@jupyter-widgets/output"
          }
        },
        "8343beaf4a904d399edebab800f885ca": {
          "model_module": "@jupyter-widgets/controls",
          "model_name": "SliderStyleModel",
          "state": {
            "_view_name": "StyleView",
            "handle_color": null,
            "_model_name": "SliderStyleModel",
            "description_width": "",
            "_view_module": "@jupyter-widgets/base",
            "_model_module_version": "1.5.0",
            "_view_count": null,
            "_view_module_version": "1.2.0",
            "_model_module": "@jupyter-widgets/controls"
          }
        },
        "cf7c6d69ebc346f18c181d8a323966da": {
          "model_module": "@jupyter-widgets/base",
          "model_name": "LayoutModel",
          "state": {
            "_view_name": "LayoutView",
            "grid_template_rows": null,
            "right": null,
            "justify_content": null,
            "_view_module": "@jupyter-widgets/base",
            "overflow": null,
            "_model_module_version": "1.2.0",
            "_view_count": null,
            "flex_flow": null,
            "width": null,
            "min_width": null,
            "border": null,
            "align_items": null,
            "bottom": null,
            "_model_module": "@jupyter-widgets/base",
            "top": null,
            "grid_column": null,
            "overflow_y": null,
            "overflow_x": null,
            "grid_auto_flow": null,
            "grid_area": null,
            "grid_template_columns": null,
            "flex": null,
            "_model_name": "LayoutModel",
            "justify_items": null,
            "grid_row": null,
            "max_height": null,
            "align_content": null,
            "visibility": null,
            "align_self": null,
            "height": null,
            "min_height": null,
            "padding": null,
            "grid_auto_rows": null,
            "grid_gap": null,
            "max_width": null,
            "order": null,
            "_view_module_version": "1.2.0",
            "grid_template_areas": null,
            "object_position": null,
            "object_fit": null,
            "grid_auto_columns": null,
            "margin": null,
            "display": null,
            "left": null
          }
        },
        "abfd9eeb0c15406d8f54855a2682ea8e": {
          "model_module": "@jupyter-widgets/controls",
          "model_name": "SliderStyleModel",
          "state": {
            "_view_name": "StyleView",
            "handle_color": null,
            "_model_name": "SliderStyleModel",
            "description_width": "",
            "_view_module": "@jupyter-widgets/base",
            "_model_module_version": "1.5.0",
            "_view_count": null,
            "_view_module_version": "1.2.0",
            "_model_module": "@jupyter-widgets/controls"
          }
        },
        "c73fc1fe846940e9a1c21d82e450ee85": {
          "model_module": "@jupyter-widgets/base",
          "model_name": "LayoutModel",
          "state": {
            "_view_name": "LayoutView",
            "grid_template_rows": null,
            "right": null,
            "justify_content": null,
            "_view_module": "@jupyter-widgets/base",
            "overflow": null,
            "_model_module_version": "1.2.0",
            "_view_count": null,
            "flex_flow": null,
            "width": null,
            "min_width": null,
            "border": null,
            "align_items": null,
            "bottom": null,
            "_model_module": "@jupyter-widgets/base",
            "top": null,
            "grid_column": null,
            "overflow_y": null,
            "overflow_x": null,
            "grid_auto_flow": null,
            "grid_area": null,
            "grid_template_columns": null,
            "flex": null,
            "_model_name": "LayoutModel",
            "justify_items": null,
            "grid_row": null,
            "max_height": null,
            "align_content": null,
            "visibility": null,
            "align_self": null,
            "height": null,
            "min_height": null,
            "padding": null,
            "grid_auto_rows": null,
            "grid_gap": null,
            "max_width": null,
            "order": null,
            "_view_module_version": "1.2.0",
            "grid_template_areas": null,
            "object_position": null,
            "object_fit": null,
            "grid_auto_columns": null,
            "margin": null,
            "display": null,
            "left": null
          }
        },
        "5e40e92729fc4c8a8b319f6fc552c948": {
          "model_module": "@jupyter-widgets/base",
          "model_name": "LayoutModel",
          "state": {
            "_view_name": "LayoutView",
            "grid_template_rows": null,
            "right": null,
            "justify_content": null,
            "_view_module": "@jupyter-widgets/base",
            "overflow": null,
            "_model_module_version": "1.2.0",
            "_view_count": null,
            "flex_flow": null,
            "width": null,
            "min_width": null,
            "border": null,
            "align_items": null,
            "bottom": null,
            "_model_module": "@jupyter-widgets/base",
            "top": null,
            "grid_column": null,
            "overflow_y": null,
            "overflow_x": null,
            "grid_auto_flow": null,
            "grid_area": null,
            "grid_template_columns": null,
            "flex": null,
            "_model_name": "LayoutModel",
            "justify_items": null,
            "grid_row": null,
            "max_height": null,
            "align_content": null,
            "visibility": null,
            "align_self": null,
            "height": null,
            "min_height": null,
            "padding": null,
            "grid_auto_rows": null,
            "grid_gap": null,
            "max_width": null,
            "order": null,
            "_view_module_version": "1.2.0",
            "grid_template_areas": null,
            "object_position": null,
            "object_fit": null,
            "grid_auto_columns": null,
            "margin": null,
            "display": null,
            "left": null
          }
        }
      }
    }
  },
  "cells": [
    {
      "cell_type": "markdown",
      "metadata": {
        "id": "view-in-github",
        "colab_type": "text"
      },
      "source": [
        "<a href=\"https://colab.research.google.com/github/mjalalimanesh/IBM-Data-Analysis-Python-Coursera/blob/main/DA0101EN-5-Model-Evaluation-and-Refinement.ipynb\" target=\"_parent\"><img src=\"https://colab.research.google.com/assets/colab-badge.svg\" alt=\"Open In Colab\"/></a>"
      ]
    },
    {
      "cell_type": "markdown",
      "metadata": {
        "id": "aiCvLPKj7Lz7"
      },
      "source": [
        "<center>\n",
        "    <img src=\"https://s3-api.us-geo.objectstorage.softlayer.net/cf-courses-data/CognitiveClass/Logos/organization_logo/organization_logo.png\" width=\"300\" alt=\"cognitiveclass.ai logo\"  />\n",
        "</center>\n",
        "\n",
        "# Model Evaluation and Refinement\n",
        "\n",
        "Estimated time needed: **30** minutes\n",
        "\n",
        "## Objectives\n",
        "\n",
        "After completing this lab you will be able to:\n",
        "\n",
        "-   Evaluate and refine prediction models\n"
      ]
    },
    {
      "cell_type": "markdown",
      "metadata": {
        "id": "xhKZ49HI7Lz8"
      },
      "source": [
        "<h1>Table of content</h1>\n",
        "<ul>\n",
        "    <li><a href=\"#ref1\">Model Evaluation </a></li>\n",
        "    <li><a href=\"#ref2\">Over-fitting, Under-fitting and Model Selection </a></li>\n",
        "    <li><a href=\"#ref3\">Ridge Regression </a></li>\n",
        "    <li><a href=\"#ref4\">Grid Search</a></li>\n",
        "</ul>\n"
      ]
    },
    {
      "cell_type": "markdown",
      "metadata": {
        "id": "GyMo6_ky7Lz9"
      },
      "source": [
        "This dataset was hosted on IBM Cloud object click <a href=\"https://cocl.us/DA101EN_object_storage\">HERE</a> for free storage.\n"
      ]
    },
    {
      "cell_type": "code",
      "metadata": {
        "id": "mWnY37by7Lz_"
      },
      "source": [
        "import pandas as pd\n",
        "import numpy as np\n",
        "\n",
        "# Import clean data \n",
        "path = 'https://s3-api.us-geo.objectstorage.softlayer.net/cf-courses-data/CognitiveClass/DA0101EN/module_5_auto.csv'\n",
        "df = pd.read_csv(path)"
      ],
      "execution_count": 1,
      "outputs": []
    },
    {
      "cell_type": "code",
      "metadata": {
        "id": "B2aaEpqN7L0I"
      },
      "source": [
        "df.to_csv('module_5_auto.csv')"
      ],
      "execution_count": null,
      "outputs": []
    },
    {
      "cell_type": "markdown",
      "metadata": {
        "id": "7cnceRj57L0M"
      },
      "source": [
        " First lets only use numeric data \n"
      ]
    },
    {
      "cell_type": "code",
      "metadata": {
        "scrolled": false,
        "id": "klio5wLa7L0N",
        "outputId": "31d0476a-2845-4c8f-c2d1-dfc3bf00852c",
        "colab": {
          "base_uri": "https://localhost:8080/",
          "height": 234
        }
      },
      "source": [
        "df=df._get_numeric_data()\n",
        "df.head()"
      ],
      "execution_count": 2,
      "outputs": [
        {
          "output_type": "execute_result",
          "data": {
            "text/html": [
              "<div>\n",
              "<style scoped>\n",
              "    .dataframe tbody tr th:only-of-type {\n",
              "        vertical-align: middle;\n",
              "    }\n",
              "\n",
              "    .dataframe tbody tr th {\n",
              "        vertical-align: top;\n",
              "    }\n",
              "\n",
              "    .dataframe thead th {\n",
              "        text-align: right;\n",
              "    }\n",
              "</style>\n",
              "<table border=\"1\" class=\"dataframe\">\n",
              "  <thead>\n",
              "    <tr style=\"text-align: right;\">\n",
              "      <th></th>\n",
              "      <th>Unnamed: 0</th>\n",
              "      <th>Unnamed: 0.1</th>\n",
              "      <th>symboling</th>\n",
              "      <th>normalized-losses</th>\n",
              "      <th>wheel-base</th>\n",
              "      <th>length</th>\n",
              "      <th>width</th>\n",
              "      <th>height</th>\n",
              "      <th>curb-weight</th>\n",
              "      <th>engine-size</th>\n",
              "      <th>bore</th>\n",
              "      <th>stroke</th>\n",
              "      <th>compression-ratio</th>\n",
              "      <th>horsepower</th>\n",
              "      <th>peak-rpm</th>\n",
              "      <th>city-mpg</th>\n",
              "      <th>highway-mpg</th>\n",
              "      <th>price</th>\n",
              "      <th>city-L/100km</th>\n",
              "      <th>diesel</th>\n",
              "      <th>gas</th>\n",
              "    </tr>\n",
              "  </thead>\n",
              "  <tbody>\n",
              "    <tr>\n",
              "      <th>0</th>\n",
              "      <td>0</td>\n",
              "      <td>0</td>\n",
              "      <td>3</td>\n",
              "      <td>122</td>\n",
              "      <td>88.6</td>\n",
              "      <td>0.811148</td>\n",
              "      <td>0.890278</td>\n",
              "      <td>48.8</td>\n",
              "      <td>2548</td>\n",
              "      <td>130</td>\n",
              "      <td>3.47</td>\n",
              "      <td>2.68</td>\n",
              "      <td>9.0</td>\n",
              "      <td>111.0</td>\n",
              "      <td>5000.0</td>\n",
              "      <td>21</td>\n",
              "      <td>27</td>\n",
              "      <td>13495.0</td>\n",
              "      <td>11.190476</td>\n",
              "      <td>0</td>\n",
              "      <td>1</td>\n",
              "    </tr>\n",
              "    <tr>\n",
              "      <th>1</th>\n",
              "      <td>1</td>\n",
              "      <td>1</td>\n",
              "      <td>3</td>\n",
              "      <td>122</td>\n",
              "      <td>88.6</td>\n",
              "      <td>0.811148</td>\n",
              "      <td>0.890278</td>\n",
              "      <td>48.8</td>\n",
              "      <td>2548</td>\n",
              "      <td>130</td>\n",
              "      <td>3.47</td>\n",
              "      <td>2.68</td>\n",
              "      <td>9.0</td>\n",
              "      <td>111.0</td>\n",
              "      <td>5000.0</td>\n",
              "      <td>21</td>\n",
              "      <td>27</td>\n",
              "      <td>16500.0</td>\n",
              "      <td>11.190476</td>\n",
              "      <td>0</td>\n",
              "      <td>1</td>\n",
              "    </tr>\n",
              "    <tr>\n",
              "      <th>2</th>\n",
              "      <td>2</td>\n",
              "      <td>2</td>\n",
              "      <td>1</td>\n",
              "      <td>122</td>\n",
              "      <td>94.5</td>\n",
              "      <td>0.822681</td>\n",
              "      <td>0.909722</td>\n",
              "      <td>52.4</td>\n",
              "      <td>2823</td>\n",
              "      <td>152</td>\n",
              "      <td>2.68</td>\n",
              "      <td>3.47</td>\n",
              "      <td>9.0</td>\n",
              "      <td>154.0</td>\n",
              "      <td>5000.0</td>\n",
              "      <td>19</td>\n",
              "      <td>26</td>\n",
              "      <td>16500.0</td>\n",
              "      <td>12.368421</td>\n",
              "      <td>0</td>\n",
              "      <td>1</td>\n",
              "    </tr>\n",
              "    <tr>\n",
              "      <th>3</th>\n",
              "      <td>3</td>\n",
              "      <td>3</td>\n",
              "      <td>2</td>\n",
              "      <td>164</td>\n",
              "      <td>99.8</td>\n",
              "      <td>0.848630</td>\n",
              "      <td>0.919444</td>\n",
              "      <td>54.3</td>\n",
              "      <td>2337</td>\n",
              "      <td>109</td>\n",
              "      <td>3.19</td>\n",
              "      <td>3.40</td>\n",
              "      <td>10.0</td>\n",
              "      <td>102.0</td>\n",
              "      <td>5500.0</td>\n",
              "      <td>24</td>\n",
              "      <td>30</td>\n",
              "      <td>13950.0</td>\n",
              "      <td>9.791667</td>\n",
              "      <td>0</td>\n",
              "      <td>1</td>\n",
              "    </tr>\n",
              "    <tr>\n",
              "      <th>4</th>\n",
              "      <td>4</td>\n",
              "      <td>4</td>\n",
              "      <td>2</td>\n",
              "      <td>164</td>\n",
              "      <td>99.4</td>\n",
              "      <td>0.848630</td>\n",
              "      <td>0.922222</td>\n",
              "      <td>54.3</td>\n",
              "      <td>2824</td>\n",
              "      <td>136</td>\n",
              "      <td>3.19</td>\n",
              "      <td>3.40</td>\n",
              "      <td>8.0</td>\n",
              "      <td>115.0</td>\n",
              "      <td>5500.0</td>\n",
              "      <td>18</td>\n",
              "      <td>22</td>\n",
              "      <td>17450.0</td>\n",
              "      <td>13.055556</td>\n",
              "      <td>0</td>\n",
              "      <td>1</td>\n",
              "    </tr>\n",
              "  </tbody>\n",
              "</table>\n",
              "</div>"
            ],
            "text/plain": [
              "   Unnamed: 0  Unnamed: 0.1  symboling  ...  city-L/100km  diesel  gas\n",
              "0           0             0          3  ...     11.190476       0    1\n",
              "1           1             1          3  ...     11.190476       0    1\n",
              "2           2             2          1  ...     12.368421       0    1\n",
              "3           3             3          2  ...      9.791667       0    1\n",
              "4           4             4          2  ...     13.055556       0    1\n",
              "\n",
              "[5 rows x 21 columns]"
            ]
          },
          "metadata": {
            "tags": []
          },
          "execution_count": 2
        }
      ]
    },
    {
      "cell_type": "markdown",
      "metadata": {
        "id": "-hUP8J_Z7L0S"
      },
      "source": [
        " Libraries for plotting \n"
      ]
    },
    {
      "cell_type": "code",
      "metadata": {
        "id": "RaR7pvg47L0T"
      },
      "source": [
        "%%capture\n",
        "! pip install ipywidgets"
      ],
      "execution_count": 3,
      "outputs": []
    },
    {
      "cell_type": "code",
      "metadata": {
        "id": "9688_7WJ7L0X"
      },
      "source": [
        "from ipywidgets import interact, interactive, fixed, interact_manual"
      ],
      "execution_count": 4,
      "outputs": []
    },
    {
      "cell_type": "markdown",
      "metadata": {
        "id": "p9joLOB_7L0b"
      },
      "source": [
        "<h2>Functions for plotting</h2>\n"
      ]
    },
    {
      "cell_type": "code",
      "metadata": {
        "id": "GH6cz91i7L0c"
      },
      "source": [
        "def DistributionPlot(RedFunction, BlueFunction, RedName, BlueName, Title):\n",
        "    width = 8\n",
        "    height = 6\n",
        "    plt.figure(figsize=(width, height))\n",
        "\n",
        "    ax1 = sns.distplot(RedFunction, hist=False, color=\"r\", label=RedName)\n",
        "    ax2 = sns.distplot(BlueFunction, hist=False, color=\"b\", label=BlueName, ax=ax1)\n",
        "\n",
        "    plt.title(Title)\n",
        "    plt.xlabel('Price (in dollars)')\n",
        "    plt.ylabel('Proportion of Cars')\n",
        "\n",
        "    plt.show()\n",
        "    plt.close()"
      ],
      "execution_count": 29,
      "outputs": []
    },
    {
      "cell_type": "code",
      "metadata": {
        "id": "1bQwLkL97L0i"
      },
      "source": [
        "def PollyPlot(xtrain, xtest, y_train, y_test, lr,poly_transform):\n",
        "    width = 8\n",
        "    height = 6\n",
        "    plt.figure(figsize=(width, height))\n",
        "    \n",
        "    \n",
        "    #training data \n",
        "    #testing data \n",
        "    # lr:  linear regression object \n",
        "    #poly_transform:  polynomial transformation object \n",
        " \n",
        "    xmax=max([xtrain.values.max(), xtest.values.max()])\n",
        "\n",
        "    xmin=min([xtrain.values.min(), xtest.values.min()])\n",
        "\n",
        "    x=np.arange(xmin, xmax, 0.1)\n",
        "\n",
        "\n",
        "    plt.plot(xtrain, y_train, 'ro', label='Training Data')\n",
        "    plt.plot(xtest, y_test, 'go', label='Test Data')\n",
        "    plt.plot(x, lr.predict(poly_transform.fit_transform(x.reshape(-1, 1))), label='Predicted Function')\n",
        "    plt.ylim([-10000, 60000])\n",
        "    plt.ylabel('Price')\n",
        "    plt.legend()"
      ],
      "execution_count": 30,
      "outputs": []
    },
    {
      "cell_type": "markdown",
      "metadata": {
        "id": "J2lEqIoN7L0p"
      },
      "source": [
        "<h1 id=\"ref1\">Part 1: Training and Testing</h1>\n",
        "\n",
        "<p>An important step in testing your model is to split your data into training and testing data. We will place the target data <b>price</b> in a separate dataframe <b>y</b>:</p>\n"
      ]
    },
    {
      "cell_type": "code",
      "metadata": {
        "id": "Q9SHc5Rv7L0q"
      },
      "source": [
        "y_data = df['price']"
      ],
      "execution_count": 7,
      "outputs": []
    },
    {
      "cell_type": "markdown",
      "metadata": {
        "id": "H-6Wgtdi7L0v"
      },
      "source": [
        "drop price data in x data\n"
      ]
    },
    {
      "cell_type": "code",
      "metadata": {
        "id": "E3Yu_W9f7L0v"
      },
      "source": [
        "x_data=df.drop('price',axis=1)"
      ],
      "execution_count": 8,
      "outputs": []
    },
    {
      "cell_type": "markdown",
      "metadata": {
        "id": "_akyAYPT7L00"
      },
      "source": [
        "Now we randomly split our data into training and testing data  using the function <b>train_test_split</b>. \n"
      ]
    },
    {
      "cell_type": "code",
      "metadata": {
        "id": "-dKYGF-K7L00",
        "outputId": "df21866a-aed5-4ca0-a037-5363f9f18f19",
        "colab": {
          "base_uri": "https://localhost:8080/",
          "height": 52
        }
      },
      "source": [
        "from sklearn.model_selection import train_test_split\n",
        "\n",
        "\n",
        "x_train, x_test, y_train, y_test = train_test_split(x_data, y_data, test_size=0.10, random_state=1)\n",
        "\n",
        "\n",
        "print(\"number of test samples :\", x_test.shape[0])\n",
        "print(\"number of training samples:\",x_train.shape[0])\n"
      ],
      "execution_count": 9,
      "outputs": [
        {
          "output_type": "stream",
          "text": [
            "number of test samples : 21\n",
            "number of training samples: 180\n"
          ],
          "name": "stdout"
        }
      ]
    },
    {
      "cell_type": "markdown",
      "metadata": {
        "id": "yVFikgnX7L05"
      },
      "source": [
        "The <b>test_size</b> parameter sets the proportion of data that is split into the testing set. In the above, the testing set is set to 10% of the total dataset. \n"
      ]
    },
    {
      "cell_type": "markdown",
      "metadata": {
        "id": "YFxpO3go7L0_"
      },
      "source": [
        "Let's import <b>LinearRegression</b> from the module <b>linear_model</b>.\n"
      ]
    },
    {
      "cell_type": "code",
      "metadata": {
        "id": "ObdCIJVw7L1B"
      },
      "source": [
        "from sklearn.linear_model import LinearRegression"
      ],
      "execution_count": 10,
      "outputs": []
    },
    {
      "cell_type": "markdown",
      "metadata": {
        "id": "0x92h2mY7L1I"
      },
      "source": [
        " We create a Linear Regression object:\n"
      ]
    },
    {
      "cell_type": "code",
      "metadata": {
        "id": "q0HKSFHw7L1J"
      },
      "source": [
        "lre=LinearRegression()"
      ],
      "execution_count": 11,
      "outputs": []
    },
    {
      "cell_type": "markdown",
      "metadata": {
        "id": "rct4aD2I7L1N"
      },
      "source": [
        "we fit the model using the feature horsepower \n"
      ]
    },
    {
      "cell_type": "code",
      "metadata": {
        "id": "XK3qahEt7L1O",
        "outputId": "9ef26605-8d95-4162-f9ff-2721853df839",
        "colab": {
          "base_uri": "https://localhost:8080/",
          "height": 34
        }
      },
      "source": [
        "lre.fit(x_train[['horsepower']], y_train)"
      ],
      "execution_count": 12,
      "outputs": [
        {
          "output_type": "execute_result",
          "data": {
            "text/plain": [
              "LinearRegression(copy_X=True, fit_intercept=True, n_jobs=None, normalize=False)"
            ]
          },
          "metadata": {
            "tags": []
          },
          "execution_count": 12
        }
      ]
    },
    {
      "cell_type": "markdown",
      "metadata": {
        "id": "7bO2ERDs7L1S"
      },
      "source": [
        "Let's Calculate the R^2 on the test data:\n"
      ]
    },
    {
      "cell_type": "code",
      "metadata": {
        "id": "Vm7f2UvJ7L1T",
        "outputId": "7fc1c859-3828-45ac-e905-be1df0bd54a3",
        "colab": {
          "base_uri": "https://localhost:8080/",
          "height": 34
        }
      },
      "source": [
        "lre.score(x_test[['horsepower']], y_test)"
      ],
      "execution_count": 13,
      "outputs": [
        {
          "output_type": "execute_result",
          "data": {
            "text/plain": [
              "0.36358755750788263"
            ]
          },
          "metadata": {
            "tags": []
          },
          "execution_count": 13
        }
      ]
    },
    {
      "cell_type": "markdown",
      "metadata": {
        "id": "WTy7LlQr7L1X"
      },
      "source": [
        "we can see the R^2 is much smaller using the test data.\n"
      ]
    },
    {
      "cell_type": "code",
      "metadata": {
        "id": "3lmdgQD57L1Y",
        "outputId": "4172e533-0328-41ec-beb1-500dcef38457",
        "colab": {
          "base_uri": "https://localhost:8080/",
          "height": 34
        }
      },
      "source": [
        "lre.score(x_train[['horsepower']], y_train)"
      ],
      "execution_count": 14,
      "outputs": [
        {
          "output_type": "execute_result",
          "data": {
            "text/plain": [
              "0.6619724197515104"
            ]
          },
          "metadata": {
            "tags": []
          },
          "execution_count": 14
        }
      ]
    },
    {
      "cell_type": "markdown",
      "metadata": {
        "id": "ekzVHtqV7L1j"
      },
      "source": [
        " Sometimes you do not have sufficient testing data; as a result, you may want to perform Cross-validation. Let's  go over several methods that you can use for  Cross-validation. \n"
      ]
    },
    {
      "cell_type": "markdown",
      "metadata": {
        "id": "DSyHRjrC7L1k"
      },
      "source": [
        "<h2>Cross-validation Score</h2>\n"
      ]
    },
    {
      "cell_type": "markdown",
      "metadata": {
        "id": "4GGj2rZl7L1m"
      },
      "source": [
        "Lets import <b>model_selection</b> from the module <b>cross_val_score</b>.\n"
      ]
    },
    {
      "cell_type": "code",
      "metadata": {
        "id": "L4pChmQr7L1o"
      },
      "source": [
        "from sklearn.model_selection import cross_val_score"
      ],
      "execution_count": 15,
      "outputs": []
    },
    {
      "cell_type": "markdown",
      "metadata": {
        "id": "17oXgd217L1w"
      },
      "source": [
        "We input the object, the feature in this case ' horsepower', the target data (y_data). The parameter 'cv'  determines the number of folds; in this case 4. \n"
      ]
    },
    {
      "cell_type": "code",
      "metadata": {
        "id": "8VvBYA-f7L1x"
      },
      "source": [
        "Rcross = cross_val_score(lre, x_data[['horsepower']], y_data, cv=4)"
      ],
      "execution_count": 16,
      "outputs": []
    },
    {
      "cell_type": "markdown",
      "metadata": {
        "id": "w-6leWtT7L12"
      },
      "source": [
        "The default scoring is R^2; each element in the array has the average  R^2 value in the fold:\n"
      ]
    },
    {
      "cell_type": "code",
      "metadata": {
        "id": "c-CfVDph7L13",
        "outputId": "a2513742-adfa-4888-f0a2-a6496ba6ccce",
        "colab": {
          "base_uri": "https://localhost:8080/",
          "height": 34
        }
      },
      "source": [
        "Rcross"
      ],
      "execution_count": 17,
      "outputs": [
        {
          "output_type": "execute_result",
          "data": {
            "text/plain": [
              "array([0.7746232 , 0.51716687, 0.74785353, 0.04839605])"
            ]
          },
          "metadata": {
            "tags": []
          },
          "execution_count": 17
        }
      ]
    },
    {
      "cell_type": "markdown",
      "metadata": {
        "id": "q-N-7csO7L1_"
      },
      "source": [
        " We can calculate the average and standard deviation of our estimate:\n"
      ]
    },
    {
      "cell_type": "code",
      "metadata": {
        "id": "Y8m4H0dW7L2B",
        "outputId": "1e070f30-e0c3-4d48-bbb6-3c1e8a051199",
        "colab": {
          "base_uri": "https://localhost:8080/",
          "height": 34
        }
      },
      "source": [
        "print(\"The mean of the folds are\", Rcross.mean(), \"and the standard deviation is\" , Rcross.std())"
      ],
      "execution_count": 18,
      "outputs": [
        {
          "output_type": "stream",
          "text": [
            "The mean of the folds are 0.522009915042119 and the standard deviation is 0.291183944475603\n"
          ],
          "name": "stdout"
        }
      ]
    },
    {
      "cell_type": "markdown",
      "metadata": {
        "id": "H4ijLBDM7L2G"
      },
      "source": [
        "We can use negative squared error as a score by setting the parameter  'scoring' metric to 'neg_mean_squared_error'. \n"
      ]
    },
    {
      "cell_type": "code",
      "metadata": {
        "id": "s5BkgglF7L2H",
        "outputId": "9f4fdec8-444c-4072-9129-c6befba2e696",
        "colab": {
          "base_uri": "https://localhost:8080/",
          "height": 52
        }
      },
      "source": [
        "-1 * cross_val_score(lre,x_data[['horsepower']], y_data,cv=4,scoring='neg_mean_squared_error')"
      ],
      "execution_count": 19,
      "outputs": [
        {
          "output_type": "execute_result",
          "data": {
            "text/plain": [
              "array([20254142.84026702, 43745493.2650517 , 12539630.34014931,\n",
              "       17561927.72247591])"
            ]
          },
          "metadata": {
            "tags": []
          },
          "execution_count": 19
        }
      ]
    },
    {
      "cell_type": "code",
      "metadata": {
        "id": "4dJ9_SAQ7L2M",
        "outputId": "69a636d3-cd2d-4993-c686-f96ae6e78f17",
        "colab": {
          "base_uri": "https://localhost:8080/",
          "height": 34
        }
      },
      "source": [
        "# Write your code below and press Shift+Enter to execute \n",
        "Rcross = cross_val_score(lre, x_data[['horsepower']], y_data, cv=2)\n",
        "print(\"The mean of the folds are\", Rcross.mean(), \"and the standard deviation is\" , Rcross.std())"
      ],
      "execution_count": 20,
      "outputs": [
        {
          "output_type": "stream",
          "text": [
            "The mean of the folds are 0.5166761697127429 and the standard deviation is 0.07348004195771388\n"
          ],
          "name": "stdout"
        }
      ]
    },
    {
      "cell_type": "markdown",
      "metadata": {
        "id": "Cy45szP_7L2Q"
      },
      "source": [
        "You can also use the function 'cross_val_predict' to predict the output. The function splits up the data into the specified number of folds, using one fold for testing and the other folds are used for training.  First import the function:\n"
      ]
    },
    {
      "cell_type": "code",
      "metadata": {
        "id": "ZcKkwbLp7L2R"
      },
      "source": [
        "from sklearn.model_selection import cross_val_predict"
      ],
      "execution_count": 21,
      "outputs": []
    },
    {
      "cell_type": "markdown",
      "metadata": {
        "id": "i9pDsy427L2U"
      },
      "source": [
        "We input the object, the feature in this case <b>'horsepower'</b> , the target data <b>y_data</b>. The parameter 'cv' determines the number of folds; in this case 4. We can produce an output:\n"
      ]
    },
    {
      "cell_type": "code",
      "metadata": {
        "id": "-AIMaNr57L2V",
        "outputId": "c36462d1-6d4c-4744-f6db-2e22d68cfbad",
        "colab": {
          "base_uri": "https://localhost:8080/",
          "height": 52
        }
      },
      "source": [
        "yhat = cross_val_predict(lre,x_data[['horsepower']], y_data,cv=4)\n",
        "yhat[0:5]"
      ],
      "execution_count": 22,
      "outputs": [
        {
          "output_type": "execute_result",
          "data": {
            "text/plain": [
              "array([14141.63807508, 14141.63807508, 20814.29423473, 12745.03562306,\n",
              "       14762.35027598])"
            ]
          },
          "metadata": {
            "tags": []
          },
          "execution_count": 22
        }
      ]
    },
    {
      "cell_type": "markdown",
      "metadata": {
        "id": "nn0Wz4Y_7L2a"
      },
      "source": [
        "<h1 id=\"ref2\">Part 2: Overfitting, Underfitting and Model Selection</h1>\n",
        "\n",
        "<p>It turns out that the test data sometimes referred to as the out of sample data is a much better measure of how well your model performs in the real world.  One reason for this is overfitting; let's go over some examples. It turns out these differences are more apparent in Multiple Linear Regression and Polynomial Regression so we will explore overfitting in that context.</p>\n"
      ]
    },
    {
      "cell_type": "markdown",
      "metadata": {
        "id": "RkAqIPkj7L2b"
      },
      "source": [
        "Let's create Multiple linear regression objects and train the model using <b>'horsepower'</b>, <b>'curb-weight'</b>, <b>'engine-size'</b> and <b>'highway-mpg'</b> as features.\n"
      ]
    },
    {
      "cell_type": "code",
      "metadata": {
        "id": "q0PKxlVn7L2c",
        "outputId": "26b13bc4-9122-45a4-dc59-f5230ab935a6",
        "colab": {
          "base_uri": "https://localhost:8080/",
          "height": 34
        }
      },
      "source": [
        "lr = LinearRegression()\n",
        "lr.fit(x_train[['horsepower', 'curb-weight', 'engine-size', 'highway-mpg']], y_train)"
      ],
      "execution_count": 23,
      "outputs": [
        {
          "output_type": "execute_result",
          "data": {
            "text/plain": [
              "LinearRegression(copy_X=True, fit_intercept=True, n_jobs=None, normalize=False)"
            ]
          },
          "metadata": {
            "tags": []
          },
          "execution_count": 23
        }
      ]
    },
    {
      "cell_type": "markdown",
      "metadata": {
        "id": "1WgkW-3u7L2f"
      },
      "source": [
        "Prediction using training data:\n"
      ]
    },
    {
      "cell_type": "code",
      "metadata": {
        "id": "juty4hWa7L2g",
        "outputId": "a8c7840e-e5d4-4a7b-a32f-f358e99d1276",
        "colab": {
          "base_uri": "https://localhost:8080/",
          "height": 52
        }
      },
      "source": [
        "yhat_train = lr.predict(x_train[['horsepower', 'curb-weight', 'engine-size', 'highway-mpg']])\n",
        "yhat_train[0:5]"
      ],
      "execution_count": 24,
      "outputs": [
        {
          "output_type": "execute_result",
          "data": {
            "text/plain": [
              "array([ 7426.6731551 , 28323.75090803, 14213.38819709,  4052.34146983,\n",
              "       34500.19124244])"
            ]
          },
          "metadata": {
            "tags": []
          },
          "execution_count": 24
        }
      ]
    },
    {
      "cell_type": "markdown",
      "metadata": {
        "id": "7_BZ3dmk7L2k"
      },
      "source": [
        "Prediction using test data: \n"
      ]
    },
    {
      "cell_type": "code",
      "metadata": {
        "id": "-HahE1di7L2k",
        "outputId": "5ef92a94-500f-442a-c6e5-437bd36130de",
        "colab": {
          "base_uri": "https://localhost:8080/",
          "height": 52
        }
      },
      "source": [
        "yhat_test = lr.predict(x_test[['horsepower', 'curb-weight', 'engine-size', 'highway-mpg']])\n",
        "yhat_test[0:5]"
      ],
      "execution_count": 25,
      "outputs": [
        {
          "output_type": "execute_result",
          "data": {
            "text/plain": [
              "array([11349.35089149,  5884.11059106, 11208.6928275 ,  6641.07786278,\n",
              "       15565.79920282])"
            ]
          },
          "metadata": {
            "tags": []
          },
          "execution_count": 25
        }
      ]
    },
    {
      "cell_type": "markdown",
      "metadata": {
        "id": "FGtBTZC17L2r"
      },
      "source": [
        "Let's perform some model evaluation using our training and testing data separately. First  we import the seaborn and matplotlibb library for plotting.\n"
      ]
    },
    {
      "cell_type": "code",
      "metadata": {
        "id": "qWQgxnxf7L2s"
      },
      "source": [
        "import matplotlib.pyplot as plt\n",
        "%matplotlib inline\n",
        "import seaborn as sns"
      ],
      "execution_count": 26,
      "outputs": []
    },
    {
      "cell_type": "markdown",
      "metadata": {
        "id": "kH_Kgs3z7L2z"
      },
      "source": [
        "Let's examine the distribution of the predicted values of the training data.\n"
      ]
    },
    {
      "cell_type": "code",
      "metadata": {
        "id": "DAU5Yzac7L2z",
        "outputId": "d1b3a7d5-3961-492b-9840-44bb27608119",
        "colab": {
          "base_uri": "https://localhost:8080/",
          "height": 495
        }
      },
      "source": [
        "Title = 'Distribution  Plot of  Predicted Value Using Training Data vs Training Data Distribution'\n",
        "DistributionPlot(y_train, yhat_train, \"Actual Values (Train)\", \"Predicted Values (Train)\", Title)"
      ],
      "execution_count": 31,
      "outputs": [
        {
          "output_type": "stream",
          "text": [
            "/usr/local/lib/python3.6/dist-packages/seaborn/distributions.py:2551: FutureWarning: `distplot` is a deprecated function and will be removed in a future version. Please adapt your code to use either `displot` (a figure-level function with similar flexibility) or `kdeplot` (an axes-level function for kernel density plots).\n",
            "  warnings.warn(msg, FutureWarning)\n",
            "/usr/local/lib/python3.6/dist-packages/seaborn/distributions.py:2551: FutureWarning: `distplot` is a deprecated function and will be removed in a future version. Please adapt your code to use either `displot` (a figure-level function with similar flexibility) or `kdeplot` (an axes-level function for kernel density plots).\n",
            "  warnings.warn(msg, FutureWarning)\n"
          ],
          "name": "stderr"
        },
        {
          "output_type": "display_data",
          "data": {
            "image/png": "[encoded data removed]",
            "text/plain": [
              "<Figure size 576x432 with 1 Axes>"
            ]
          },
          "metadata": {
            "tags": [],
            "needs_background": "light"
          }
        }
      ]
    },
    {
      "cell_type": "markdown",
      "metadata": {
        "id": "U-KvEDuy7L26"
      },
      "source": [
        "Figure 1: Plot of predicted values using the training data compared to the training data. \n"
      ]
    },
    {
      "cell_type": "markdown",
      "metadata": {
        "id": "pS8detts7L27"
      },
      "source": [
        "So far the model seems to be doing well in learning from the training dataset. But what happens when the model encounters new data from the testing dataset? When the model generates new values from the test data, we see the distribution of the predicted values is much different from the actual target values. \n"
      ]
    },
    {
      "cell_type": "code",
      "metadata": {
        "id": "RHymfCiz7L28",
        "outputId": "5a551885-35fe-4b67-8547-8c4ab8452e5a",
        "colab": {
          "base_uri": "https://localhost:8080/",
          "height": 495
        }
      },
      "source": [
        "Title='Distribution  Plot of  Predicted Value Using Test Data vs Data Distribution of Test Data'\n",
        "DistributionPlot(y_test,yhat_test,\"Actual Values (Test)\",\"Predicted Values (Test)\",Title)"
      ],
      "execution_count": 32,
      "outputs": [
        {
          "output_type": "stream",
          "text": [
            "/usr/local/lib/python3.6/dist-packages/seaborn/distributions.py:2551: FutureWarning: `distplot` is a deprecated function and will be removed in a future version. Please adapt your code to use either `displot` (a figure-level function with similar flexibility) or `kdeplot` (an axes-level function for kernel density plots).\n",
            "  warnings.warn(msg, FutureWarning)\n",
            "/usr/local/lib/python3.6/dist-packages/seaborn/distributions.py:2551: FutureWarning: `distplot` is a deprecated function and will be removed in a future version. Please adapt your code to use either `displot` (a figure-level function with similar flexibility) or `kdeplot` (an axes-level function for kernel density plots).\n",
            "  warnings.warn(msg, FutureWarning)\n"
          ],
          "name": "stderr"
        },
        {
          "output_type": "display_data",
          "data": {
            "image/png": "[encoded data removed]",
            "text/plain": [
              "<Figure size 576x432 with 1 Axes>"
            ]
          },
          "metadata": {
            "tags": [],
            "needs_background": "light"
          }
        }
      ]
    },
    {
      "cell_type": "markdown",
      "metadata": {
        "id": "YTsfNKGC7L3B"
      },
      "source": [
        "Figur 2: Plot of predicted value using the test data compared to the test data. \n"
      ]
    },
    {
      "cell_type": "markdown",
      "metadata": {
        "id": "mbIvqTYG7L3C"
      },
      "source": [
        "<p>Comparing Figure 1 and Figure 2; it is evident the distribution of the test data in Figure 1 is much better at fitting the data. This difference in Figure 2 is apparent where the ranges are from 5000 to 15 000. This is where the distribution shape is exceptionally different. Let's see if polynomial regression also exhibits a drop in the prediction accuracy when analysing the test dataset.</p>\n"
      ]
    },
    {
      "cell_type": "code",
      "metadata": {
        "id": "8g_HVEPR7L3D"
      },
      "source": [
        "from sklearn.preprocessing import PolynomialFeatures"
      ],
      "execution_count": 33,
      "outputs": []
    },
    {
      "cell_type": "markdown",
      "metadata": {
        "id": "IGRwLua97L3J"
      },
      "source": [
        "<h4>Overfitting</h4>\n",
        "<p>Overfitting occurs when the model fits the noise, not the underlying process. Therefore when testing your model using the test-set, your model does not perform as well as it is modelling noise, not the underlying process that generated the relationship. Let's create a degree 5 polynomial model.</p>\n"
      ]
    },
    {
      "cell_type": "markdown",
      "metadata": {
        "id": "JfkGjh7S7L3K"
      },
      "source": [
        "Let's use 55 percent of the data for training and the rest for testing:\n"
      ]
    },
    {
      "cell_type": "code",
      "metadata": {
        "id": "VLW7DGrp7L3L"
      },
      "source": [
        "x_train, x_test, y_train, y_test = train_test_split(x_data, y_data, test_size=0.45, random_state=0)"
      ],
      "execution_count": 34,
      "outputs": []
    },
    {
      "cell_type": "markdown",
      "metadata": {
        "id": "2jmHvqhR7L3T"
      },
      "source": [
        "We will perform a degree 5 polynomial transformation on the feature <b>'horse power'</b>. \n"
      ]
    },
    {
      "cell_type": "code",
      "metadata": {
        "id": "T1Kazfsv7L3U",
        "outputId": "25e83e50-7ccf-42d8-cdf1-8a6496ec226b",
        "colab": {
          "base_uri": "https://localhost:8080/",
          "height": 52
        }
      },
      "source": [
        "pr = PolynomialFeatures(degree=5)\n",
        "x_train_pr = pr.fit_transform(x_train[['horsepower']])\n",
        "x_test_pr = pr.fit_transform(x_test[['horsepower']])\n",
        "pr"
      ],
      "execution_count": 35,
      "outputs": [
        {
          "output_type": "execute_result",
          "data": {
            "text/plain": [
              "PolynomialFeatures(degree=5, include_bias=True, interaction_only=False,\n",
              "                   order='C')"
            ]
          },
          "metadata": {
            "tags": []
          },
          "execution_count": 35
        }
      ]
    },
    {
      "cell_type": "markdown",
      "metadata": {
        "id": "cEOfqge67L3a"
      },
      "source": [
        "Now let's create a linear regression model \"poly\" and train it.\n"
      ]
    },
    {
      "cell_type": "code",
      "metadata": {
        "id": "ao9qH-cJ7L3c",
        "outputId": "fe425fc1-b407-4565-eaed-6bd5b5ff5003",
        "colab": {
          "base_uri": "https://localhost:8080/",
          "height": 34
        }
      },
      "source": [
        "poly = LinearRegression()\n",
        "poly.fit(x_train_pr, y_train)"
      ],
      "execution_count": 36,
      "outputs": [
        {
          "output_type": "execute_result",
          "data": {
            "text/plain": [
              "LinearRegression(copy_X=True, fit_intercept=True, n_jobs=None, normalize=False)"
            ]
          },
          "metadata": {
            "tags": []
          },
          "execution_count": 36
        }
      ]
    },
    {
      "cell_type": "markdown",
      "metadata": {
        "id": "dac0Ixdo7L37"
      },
      "source": [
        "We can see the output of our model using the method  \"predict.\" then assign the values to \"yhat\".\n"
      ]
    },
    {
      "cell_type": "code",
      "metadata": {
        "id": "A5kNNt0K7L38",
        "outputId": "5736f13f-7670-423e-e0fe-eeea65ea392d",
        "colab": {
          "base_uri": "https://localhost:8080/",
          "height": 52
        }
      },
      "source": [
        "yhat = poly.predict(x_test_pr)\n",
        "yhat[0:5]"
      ],
      "execution_count": 37,
      "outputs": [
        {
          "output_type": "execute_result",
          "data": {
            "text/plain": [
              "array([ 6728.65561887,  7307.98782321, 12213.78770965, 18893.24804015,\n",
              "       19995.95195136])"
            ]
          },
          "metadata": {
            "tags": []
          },
          "execution_count": 37
        }
      ]
    },
    {
      "cell_type": "markdown",
      "metadata": {
        "id": "fYFxISuA7L4B"
      },
      "source": [
        "Let's take the first five predicted values and compare it to the actual targets. \n"
      ]
    },
    {
      "cell_type": "code",
      "metadata": {
        "id": "PXwoIFea7L4D",
        "outputId": "a642d3c4-f335-4071-f4c7-6c681b29c159",
        "colab": {
          "base_uri": "https://localhost:8080/",
          "height": 52
        }
      },
      "source": [
        "print(\"Predicted values:\", yhat[0:4])\n",
        "print(\"True values:\", y_test[0:4].values)"
      ],
      "execution_count": 38,
      "outputs": [
        {
          "output_type": "stream",
          "text": [
            "Predicted values: [ 6728.65561887  7307.98782321 12213.78770965 18893.24804015]\n",
            "True values: [ 6295. 10698. 13860. 13499.]\n"
          ],
          "name": "stdout"
        }
      ]
    },
    {
      "cell_type": "markdown",
      "metadata": {
        "id": "lGupjsB87L4H"
      },
      "source": [
        "We will use the function \"PollyPlot\" that we defined at the beginning of the lab to display the training data, testing data, and the predicted function.\n"
      ]
    },
    {
      "cell_type": "code",
      "metadata": {
        "scrolled": false,
        "id": "GuM30dgJ7L4I",
        "outputId": "3c291e20-8ce8-44fd-aeef-e886c186f0d4",
        "colab": {
          "base_uri": "https://localhost:8080/",
          "height": 377
        }
      },
      "source": [
        "PollyPlot(x_train[['horsepower']], x_test[['horsepower']], y_train, y_test, poly,pr)"
      ],
      "execution_count": 39,
      "outputs": [
        {
          "output_type": "display_data",
          "data": {
            "image/png": "[encoded data removed]",
            "text/plain": [
              "<Figure size 576x432 with 1 Axes>"
            ]
          },
          "metadata": {
            "tags": [],
            "needs_background": "light"
          }
        }
      ]
    },
    {
      "cell_type": "markdown",
      "metadata": {
        "id": "wBAiLqFI7L4L"
      },
      "source": [
        "Figur 4 A polynomial regression model, red dots represent training data, green dots represent test data, and the blue line represents the model prediction. \n"
      ]
    },
    {
      "cell_type": "markdown",
      "metadata": {
        "id": "cuayrOCk7L4L"
      },
      "source": [
        "We see that the estimated function appears to track the data but around 200 horsepower, the function begins to diverge from the data points. \n"
      ]
    },
    {
      "cell_type": "markdown",
      "metadata": {
        "id": "JTHVCel_7L4M"
      },
      "source": [
        " R^2 of the training data:\n"
      ]
    },
    {
      "cell_type": "code",
      "metadata": {
        "id": "EIogHGE67L4N",
        "outputId": "5506735b-887b-4475-dd11-39a969d20935",
        "colab": {
          "base_uri": "https://localhost:8080/",
          "height": 34
        }
      },
      "source": [
        "poly.score(x_train_pr, y_train)"
      ],
      "execution_count": 40,
      "outputs": [
        {
          "output_type": "execute_result",
          "data": {
            "text/plain": [
              "0.556771690212023"
            ]
          },
          "metadata": {
            "tags": []
          },
          "execution_count": 40
        }
      ]
    },
    {
      "cell_type": "markdown",
      "metadata": {
        "id": "QRqk_PQg7L4S"
      },
      "source": [
        " R^2 of the test data:\n"
      ]
    },
    {
      "cell_type": "code",
      "metadata": {
        "id": "3kML-Gnc7L4T",
        "outputId": "530586b5-1f0e-445b-96fa-27b0cb6238aa",
        "colab": {
          "base_uri": "https://localhost:8080/",
          "height": 34
        }
      },
      "source": [
        "poly.score(x_test_pr, y_test)"
      ],
      "execution_count": 41,
      "outputs": [
        {
          "output_type": "execute_result",
          "data": {
            "text/plain": [
              "-29.871340302044153"
            ]
          },
          "metadata": {
            "tags": []
          },
          "execution_count": 41
        }
      ]
    },
    {
      "cell_type": "markdown",
      "metadata": {
        "id": "QsFegekD7L4X"
      },
      "source": [
        "We see the R^2 for the training data is 0.5567 while the R^2 on the test data was -29.87.  The lower the R^2, the worse the model, a Negative R^2 is a sign of overfitting.\n"
      ]
    },
    {
      "cell_type": "markdown",
      "metadata": {
        "id": "J5mc6Dpu7L4Y"
      },
      "source": [
        "Let's see how the R^2 changes on the test data for different order polynomials and plot the results:\n"
      ]
    },
    {
      "cell_type": "code",
      "metadata": {
        "id": "4UV4F9897L4Z",
        "outputId": "9633bc1d-ec66-4a9e-e65a-ff4abb34e2e4",
        "colab": {
          "base_uri": "https://localhost:8080/",
          "height": 312
        }
      },
      "source": [
        "Rsqu_test = []\n",
        "\n",
        "order = [1, 2, 3, 4]\n",
        "for n in order:\n",
        "    pr = PolynomialFeatures(degree=n)\n",
        "    \n",
        "    x_train_pr = pr.fit_transform(x_train[['horsepower']])\n",
        "    \n",
        "    x_test_pr = pr.fit_transform(x_test[['horsepower']])    \n",
        "    \n",
        "    lr.fit(x_train_pr, y_train)\n",
        "    \n",
        "    Rsqu_test.append(lr.score(x_test_pr, y_test))\n",
        "\n",
        "plt.plot(order, Rsqu_test)\n",
        "plt.xlabel('order')\n",
        "plt.ylabel('R^2')\n",
        "plt.title('R^2 Using Test Data')\n",
        "plt.text(3, 0.75, 'Maximum R^2 ')    "
      ],
      "execution_count": 42,
      "outputs": [
        {
          "output_type": "execute_result",
          "data": {
            "text/plain": [
              "Text(3, 0.75, 'Maximum R^2 ')"
            ]
          },
          "metadata": {
            "tags": []
          },
          "execution_count": 42
        },
        {
          "output_type": "display_data",
          "data": {
            "image/png": "[encoded data removed]",
            "text/plain": [
              "<Figure size 432x288 with 1 Axes>"
            ]
          },
          "metadata": {
            "tags": [],
            "needs_background": "light"
          }
        }
      ]
    },
    {
      "cell_type": "markdown",
      "metadata": {
        "id": "1OfhCyBX7L4e"
      },
      "source": [
        "We see the R^2 gradually increases until an order three polynomial is used. Then the  R^2 dramatically decreases at four.\n"
      ]
    },
    {
      "cell_type": "markdown",
      "metadata": {
        "id": "kcn29tVl7L4e"
      },
      "source": [
        "The following function will be used in the next section; please run the cell.\n"
      ]
    },
    {
      "cell_type": "code",
      "metadata": {
        "id": "0Pa2KDxw7L4f"
      },
      "source": [
        "def f(order, test_data):\n",
        "    x_train, x_test, y_train, y_test = train_test_split(x_data, y_data, test_size=test_data, random_state=0)\n",
        "    pr = PolynomialFeatures(degree=order)\n",
        "    x_train_pr = pr.fit_transform(x_train[['horsepower']])\n",
        "    x_test_pr = pr.fit_transform(x_test[['horsepower']])\n",
        "    poly = LinearRegression()\n",
        "    poly.fit(x_train_pr,y_train)\n",
        "    PollyPlot(x_train[['horsepower']], x_test[['horsepower']], y_train,y_test, poly, pr)"
      ],
      "execution_count": 43,
      "outputs": []
    },
    {
      "cell_type": "markdown",
      "metadata": {
        "id": "KNbjaBkR7L4k"
      },
      "source": [
        "The following interface allows you to experiment with different polynomial orders and different amounts of data. \n"
      ]
    },
    {
      "cell_type": "code",
      "metadata": {
        "id": "uCseL0na7L4l",
        "outputId": "bc1af67d-6454-41d3-9434-64b038f85701",
        "colab": {
          "base_uri": "https://localhost:8080/",
          "height": 460,
          "referenced_widgets": [
            "ee077f8263ee4fc0be9edbc5a833d407",
            "8ffd0644b55f4c1f9124a4fc030649e6",
            "4c64d5cc52c94b0bab534a9fc5990d79",
            "4215dd032843493fa04b53251123f84c",
            "bc2ec4dbc0014efab0657bf8a8f8866d",
            "8343beaf4a904d399edebab800f885ca",
            "cf7c6d69ebc346f18c181d8a323966da",
            "abfd9eeb0c15406d8f54855a2682ea8e",
            "c73fc1fe846940e9a1c21d82e450ee85",
            "5e40e92729fc4c8a8b319f6fc552c948"
          ]
        }
      },
      "source": [
        "interact(f, order=(0, 6, 1), test_data=(0.05, 0.95, 0.05))"
      ],
      "execution_count": 44,
      "outputs": [
        {
          "output_type": "display_data",
          "data": {
            "application/vnd.jupyter.widget-view+json": {
              "model_id": "ee077f8263ee4fc0be9edbc5a833d407",
              "version_minor": 0,
              "version_major": 2
            },
            "text/plain": [
              "interactive(children=(IntSlider(value=3, description='order', max=6), FloatSlider(value=0.45, description='tes…"
            ]
          },
          "metadata": {
            "tags": []
          }
        },
        {
          "output_type": "execute_result",
          "data": {
            "text/plain": [
              "<function __main__.f>"
            ]
          },
          "metadata": {
            "tags": []
          },
          "execution_count": 44
        }
      ]
    },
    {
      "cell_type": "markdown",
      "metadata": {
        "id": "wNeqgK5m7L5K"
      },
      "source": [
        "<h2 id=\"ref3\">Part 3: Ridge regression</h2> \n"
      ]
    },
    {
      "cell_type": "markdown",
      "metadata": {
        "id": "1k-ydIit7L5L"
      },
      "source": [
        " In this section, we will review Ridge Regression we will see how the parameter Alfa changes the model. Just a note here our test data will be used as validation data.\n"
      ]
    },
    {
      "cell_type": "markdown",
      "metadata": {
        "id": "n0ViCvr-7L5M"
      },
      "source": [
        " Let's perform a degree two polynomial transformation on our data. \n"
      ]
    },
    {
      "cell_type": "code",
      "metadata": {
        "id": "ecPUcDzE7L5M"
      },
      "source": [
        "pr=PolynomialFeatures(degree=2)\n",
        "x_train_pr=pr.fit_transform(x_train[['horsepower', 'curb-weight', 'engine-size', 'highway-mpg','normalized-losses','symboling']])\n",
        "x_test_pr=pr.fit_transform(x_test[['horsepower', 'curb-weight', 'engine-size', 'highway-mpg','normalized-losses','symboling']])"
      ],
      "execution_count": 46,
      "outputs": []
    },
    {
      "cell_type": "markdown",
      "metadata": {
        "id": "l2RVh7dQ7L5R"
      },
      "source": [
        " Let's import  <b>Ridge</b>  from the module <b>linear models</b>.\n"
      ]
    },
    {
      "cell_type": "code",
      "metadata": {
        "id": "MddNURZR7L5R"
      },
      "source": [
        "from sklearn.linear_model import Ridge"
      ],
      "execution_count": 47,
      "outputs": []
    },
    {
      "cell_type": "markdown",
      "metadata": {
        "id": "4yDHgH8_7L5U"
      },
      "source": [
        "Let's create a Ridge regression object, setting the regularization parameter to 0.1 \n"
      ]
    },
    {
      "cell_type": "code",
      "metadata": {
        "id": "mu8gE0S27L5V"
      },
      "source": [
        "RigeModel=Ridge(alpha=0.1)"
      ],
      "execution_count": 48,
      "outputs": []
    },
    {
      "cell_type": "markdown",
      "metadata": {
        "id": "phPXeOWX7L5Z"
      },
      "source": [
        "Like regular regression, you can fit the model using the method <b>fit</b>.\n"
      ]
    },
    {
      "cell_type": "code",
      "metadata": {
        "id": "5GssgCyW7L5a",
        "outputId": "e3432127-b14d-4bb3-e564-c3697e6e8a20",
        "colab": {
          "base_uri": "https://localhost:8080/",
          "height": 107
        }
      },
      "source": [
        "RigeModel.fit(x_train_pr, y_train)"
      ],
      "execution_count": 49,
      "outputs": [
        {
          "output_type": "stream",
          "text": [
            "/usr/local/lib/python3.6/dist-packages/sklearn/linear_model/_ridge.py:148: LinAlgWarning: Ill-conditioned matrix (rcond=1.02972e-16): result may not be accurate.\n",
            "  overwrite_a=True).T\n"
          ],
          "name": "stderr"
        },
        {
          "output_type": "execute_result",
          "data": {
            "text/plain": [
              "Ridge(alpha=0.1, copy_X=True, fit_intercept=True, max_iter=None,\n",
              "      normalize=False, random_state=None, solver='auto', tol=0.001)"
            ]
          },
          "metadata": {
            "tags": []
          },
          "execution_count": 49
        }
      ]
    },
    {
      "cell_type": "markdown",
      "metadata": {
        "id": "PBh_xs6g7L5c"
      },
      "source": [
        " Similarly, you can obtain a prediction: \n"
      ]
    },
    {
      "cell_type": "code",
      "metadata": {
        "id": "f1F78dac7L5c"
      },
      "source": [
        "yhat = RigeModel.predict(x_test_pr)"
      ],
      "execution_count": 50,
      "outputs": []
    },
    {
      "cell_type": "markdown",
      "metadata": {
        "id": "U2HY1lSv7L5f"
      },
      "source": [
        "Let's compare the first five predicted samples to our test set \n"
      ]
    },
    {
      "cell_type": "code",
      "metadata": {
        "id": "FWQi6obu7L5g",
        "outputId": "113635b0-bc15-47ea-cba8-d5a39c9ca5e9",
        "colab": {
          "base_uri": "https://localhost:8080/",
          "height": 52
        }
      },
      "source": [
        "print('predicted:', yhat[0:4])\n",
        "print('test set :', y_test[0:4].values)"
      ],
      "execution_count": 51,
      "outputs": [
        {
          "output_type": "stream",
          "text": [
            "predicted: [ 6567.83081933  9597.97151399 20836.22326843 19347.69543463]\n",
            "test set : [ 6295. 10698. 13860. 13499.]\n"
          ],
          "name": "stdout"
        }
      ]
    },
    {
      "cell_type": "markdown",
      "metadata": {
        "id": "NudePO2A7L5j"
      },
      "source": [
        "We select the value of Alpha that minimizes the test error, for example, we can use a for loop. \n"
      ]
    },
    {
      "cell_type": "code",
      "metadata": {
        "id": "dMXl2AFB7L5k"
      },
      "source": [
        "Rsqu_test = []\n",
        "Rsqu_train = []\n",
        "dummy1 = []\n",
        "Alpha = 10 * np.array(range(0,1000))\n",
        "for alpha in Alpha:\n",
        "    RigeModel = Ridge(alpha=alpha) \n",
        "    RigeModel.fit(x_train_pr, y_train)\n",
        "    Rsqu_test.append(RigeModel.score(x_test_pr, y_test))\n",
        "    Rsqu_train.append(RigeModel.score(x_train_pr, y_train))"
      ],
      "execution_count": 52,
      "outputs": []
    },
    {
      "cell_type": "markdown",
      "metadata": {
        "id": "v8eCIH2y7L5m"
      },
      "source": [
        "We can plot out the value of R^2 for different Alphas \n"
      ]
    },
    {
      "cell_type": "code",
      "metadata": {
        "id": "nhXbG1Ww7L5m",
        "outputId": "bdd810a1-da1e-445e-8b6c-925489497a7a",
        "colab": {
          "base_uri": "https://localhost:8080/",
          "height": 623
        }
      },
      "source": [
        "width = 12\n",
        "height = 10\n",
        "plt.figure(figsize=(width, height))\n",
        "\n",
        "plt.plot(Alpha,Rsqu_test, label='validation data  ')\n",
        "plt.plot(Alpha,Rsqu_train, 'r', label='training Data ')\n",
        "plt.xlabel('alpha')\n",
        "plt.ylabel('R^2')\n",
        "plt.legend()"
      ],
      "execution_count": 53,
      "outputs": [
        {
          "output_type": "execute_result",
          "data": {
            "text/plain": [
              "<matplotlib.legend.Legend at 0x7f002dc3bdd8>"
            ]
          },
          "metadata": {
            "tags": []
          },
          "execution_count": 53
        },
        {
          "output_type": "display_data",
          "data": {
            "image/png": "[encoded data removed]",
            "text/plain": [
              "<Figure size 864x720 with 1 Axes>"
            ]
          },
          "metadata": {
            "tags": [],
            "needs_background": "light"
          }
        }
      ]
    },
    {
      "cell_type": "markdown",
      "metadata": {
        "id": "_8iybvRk7L5r"
      },
      "source": [
        "**Figure 6**:The blue line represents the R^2 of the validation data, and the red line represents the R^2 of the training data. The x-axis represents the different values of Alpha. \n"
      ]
    },
    {
      "cell_type": "markdown",
      "metadata": {
        "id": "r8hQRBTS7L5t"
      },
      "source": [
        "Here the model is built and tested on the same data. So the training and test data are the same.\n",
        "\n",
        "The red line in figure 6 represents the R^2 of the test data.  \n",
        "As Alpha increases the R^2 decreases.  \n",
        "Therefore as Alpha increases the model performs worse on the test data.  \n",
        "\n",
        "The blue line represents the R^2 on the validation data.  \n",
        "As the value for Alpha increases the R^2 increases and converges at a point  \n"
      ]
    },
    {
      "cell_type": "markdown",
      "metadata": {
        "id": "T0NsSnly7L5y"
      },
      "source": [
        "<h2 id=\"ref4\">Part 4: Grid Search</h2>\n"
      ]
    },
    {
      "cell_type": "markdown",
      "metadata": {
        "id": "tf0-MPkS7L5z"
      },
      "source": [
        "The term Alfa is a hyperparameter, sklearn has the class  <b>GridSearchCV</b> to make the process of finding the best hyperparameter simpler.\n"
      ]
    },
    {
      "cell_type": "markdown",
      "metadata": {
        "id": "BZhWZzyV7L51"
      },
      "source": [
        "Let's import <b>GridSearchCV</b> from  the module <b>model_selection</b>.\n"
      ]
    },
    {
      "cell_type": "code",
      "metadata": {
        "id": "Ebvo-AiT7L51"
      },
      "source": [
        "from sklearn.model_selection import GridSearchCV"
      ],
      "execution_count": 54,
      "outputs": []
    },
    {
      "cell_type": "markdown",
      "metadata": {
        "id": "QYQ0rE557L53"
      },
      "source": [
        "We create a dictionary of parameter values:\n"
      ]
    },
    {
      "cell_type": "code",
      "metadata": {
        "id": "oJQHxSiV7L54",
        "outputId": "cb35525d-f6ef-4ba5-dbf0-ca6549a22347",
        "colab": {
          "base_uri": "https://localhost:8080/",
          "height": 34
        }
      },
      "source": [
        "parameters1= [{'alpha': [0.001,0.1,1, 10, 100, 1000, 10000, 100000, 100000]}]\n",
        "parameters1"
      ],
      "execution_count": 55,
      "outputs": [
        {
          "output_type": "execute_result",
          "data": {
            "text/plain": [
              "[{'alpha': [0.001, 0.1, 1, 10, 100, 1000, 10000, 100000, 100000]}]"
            ]
          },
          "metadata": {
            "tags": []
          },
          "execution_count": 55
        }
      ]
    },
    {
      "cell_type": "markdown",
      "metadata": {
        "id": "43DuCMjL7L58"
      },
      "source": [
        "Create a ridge regions object:\n"
      ]
    },
    {
      "cell_type": "code",
      "metadata": {
        "id": "5THiaac27L58",
        "outputId": "396a03b3-c553-4a2e-fcdb-7a7345d8596f",
        "colab": {
          "base_uri": "https://localhost:8080/",
          "height": 52
        }
      },
      "source": [
        "RR=Ridge()\n",
        "RR"
      ],
      "execution_count": 56,
      "outputs": [
        {
          "output_type": "execute_result",
          "data": {
            "text/plain": [
              "Ridge(alpha=1.0, copy_X=True, fit_intercept=True, max_iter=None,\n",
              "      normalize=False, random_state=None, solver='auto', tol=0.001)"
            ]
          },
          "metadata": {
            "tags": []
          },
          "execution_count": 56
        }
      ]
    },
    {
      "cell_type": "markdown",
      "metadata": {
        "id": "yPuAVXAG7L5_"
      },
      "source": [
        "Create a ridge grid search object \n"
      ]
    },
    {
      "cell_type": "code",
      "metadata": {
        "id": "rf4N0dvA7L6A"
      },
      "source": [
        "Grid1 = GridSearchCV(RR, parameters1,cv=4)"
      ],
      "execution_count": 57,
      "outputs": []
    },
    {
      "cell_type": "markdown",
      "metadata": {
        "id": "Bi2KomIP7L6G"
      },
      "source": [
        "Fit the model \n"
      ]
    },
    {
      "cell_type": "code",
      "metadata": {
        "id": "SvJQdTKl7L6G",
        "outputId": "83a9080d-378f-4eff-c31d-8785d4e5caec",
        "colab": {
          "base_uri": "https://localhost:8080/",
          "height": 176
        }
      },
      "source": [
        "Grid1.fit(x_data[['horsepower', 'curb-weight', 'engine-size', 'highway-mpg']], y_data)"
      ],
      "execution_count": 58,
      "outputs": [
        {
          "output_type": "execute_result",
          "data": {
            "text/plain": [
              "GridSearchCV(cv=4, error_score=nan,\n",
              "             estimator=Ridge(alpha=1.0, copy_X=True, fit_intercept=True,\n",
              "                             max_iter=None, normalize=False, random_state=None,\n",
              "                             solver='auto', tol=0.001),\n",
              "             iid='deprecated', n_jobs=None,\n",
              "             param_grid=[{'alpha': [0.001, 0.1, 1, 10, 100, 1000, 10000, 100000,\n",
              "                                    100000]}],\n",
              "             pre_dispatch='2*n_jobs', refit=True, return_train_score=False,\n",
              "             scoring=None, verbose=0)"
            ]
          },
          "metadata": {
            "tags": []
          },
          "execution_count": 58
        }
      ]
    },
    {
      "cell_type": "markdown",
      "metadata": {
        "id": "ZhqnGPfK7L6I"
      },
      "source": [
        "The object finds the best parameter values on the validation data. We can obtain the estimator with the best parameters and assign it to the variable BestRR as follows:\n"
      ]
    },
    {
      "cell_type": "code",
      "metadata": {
        "id": "2cHxiM4k7L6J",
        "outputId": "dbc8d283-9f81-4c74-f1f4-a13eedbcdd25",
        "colab": {
          "base_uri": "https://localhost:8080/",
          "height": 52
        }
      },
      "source": [
        "BestRR=Grid1.best_estimator_\n",
        "BestRR"
      ],
      "execution_count": 59,
      "outputs": [
        {
          "output_type": "execute_result",
          "data": {
            "text/plain": [
              "Ridge(alpha=10000, copy_X=True, fit_intercept=True, max_iter=None,\n",
              "      normalize=False, random_state=None, solver='auto', tol=0.001)"
            ]
          },
          "metadata": {
            "tags": []
          },
          "execution_count": 59
        }
      ]
    },
    {
      "cell_type": "markdown",
      "metadata": {
        "id": "qtXvxgFs7L6O"
      },
      "source": [
        " We now test our model on the test data \n"
      ]
    },
    {
      "cell_type": "code",
      "metadata": {
        "id": "bMMXD75u7L6O",
        "outputId": "557ff67f-0ee1-45cc-dccf-30e108e0eda2",
        "colab": {
          "base_uri": "https://localhost:8080/",
          "height": 34
        }
      },
      "source": [
        "BestRR.score(x_test[['horsepower', 'curb-weight', 'engine-size', 'highway-mpg']], y_test)"
      ],
      "execution_count": 60,
      "outputs": [
        {
          "output_type": "execute_result",
          "data": {
            "text/plain": [
              "0.8411649831036152"
            ]
          },
          "metadata": {
            "tags": []
          },
          "execution_count": 60
        }
      ]
    },
    {
      "cell_type": "markdown",
      "metadata": {
        "id": "0aFO8DyV7L6Y"
      },
      "source": [
        "### Thank you for completing this lab!\n",
        "\n",
        "## Author\n",
        "\n",
        "<a href=\"https://www.linkedin.com/in/joseph-s-50398b136/\" target=\"_blank\">Joseph Santarcangelo</a>\n",
        "\n",
        "### Other Contributors\n",
        "\n",
        "<a href=\"https://www.linkedin.com/in/mahdi-noorian-58219234/\" target=\"_blank\">Mahdi Noorian PhD</a>\n",
        "\n",
        "Bahare Talayian\n",
        "\n",
        "Eric Xiao\n",
        "\n",
        "Steven Dong\n",
        "\n",
        "Parizad\n",
        "\n",
        "Hima Vasudevan\n",
        "\n",
        "<a href=\"https://www.linkedin.com/in/fiorellawever/\" target=\"_blank\">Fiorella Wenver</a>\n",
        "\n",
        "<a href=\" https://www.linkedin.com/in/yi-leng-yao-84451275/ \" target=\"_blank\" >Yi Yao</a>.\n",
        "\n",
        "## Change Log\n",
        "\n",
        "| Date (YYYY-MM-DD) | Version | Changed By | Change Description                  |\n",
        "| ----------------- | ------- | ---------- | ----------------------------------- |\n",
        "| 2020-10-05        | 2.2     | Lakshmi    | Removed unused library imports      |\n",
        "| 2020-09-14        | 2.1     | Lakshmi    | Made changes in OverFitting section |\n",
        "| 2020-08-27        | 2.0     | Lavanya    | Moved lab to course repo in GitLab  |\n",
        "\n",
        "<hr>\n",
        "\n",
        "## <h3 align=\"center\"> © IBM Corporation 2020. All rights reserved. <h3/>\n"
      ]
    }
  ]
}